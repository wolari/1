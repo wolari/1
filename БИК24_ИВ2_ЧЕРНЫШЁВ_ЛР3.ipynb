{
  "nbformat": 4,
  "nbformat_minor": 0,
  "metadata": {
    "colab": {
      "provenance": [],
      "authorship_tag": "ABX9TyNBr0jLEQQ3u2jA/hVkKQ17",
      "include_colab_link": true
    },
    "kernelspec": {
      "name": "python3",
      "display_name": "Python 3"
    },
    "language_info": {
      "name": "python"
    }
  },
  "cells": [
    {
      "cell_type": "markdown",
      "metadata": {
        "id": "view-in-github",
        "colab_type": "text"
      },
      "source": [
        "<a href=\"https://colab.research.google.com/github/wolari/1/blob/main/%D0%91%D0%98%D0%9A24_%D0%98%D0%922_%D0%A7%D0%95%D0%A0%D0%9D%D0%AB%D0%A8%D0%81%D0%92_%D0%9B%D0%A03.ipynb\" target=\"_parent\"><img src=\"https://colab.research.google.com/assets/colab-badge.svg\" alt=\"Open In Colab\"/></a>"
      ]
    },
    {
      "cell_type": "code",
      "execution_count": 9,
      "metadata": {
        "colab": {
          "base_uri": "https://localhost:8080/"
        },
        "id": "VRU0nJsaJnyD",
        "outputId": "1e558929-6408-44a6-f441-e5126c15a2c8"
      },
      "outputs": [
        {
          "output_type": "stream",
          "name": "stdout",
          "text": [
            "5, 9, 10, 6\n"
          ]
        }
      ],
      "source": [
        "input_string = \"шарик, геометрия, долматинец, ягодка\"\n",
        "parts = input_string.split(\", \")\n",
        "lenghts = [len(part) for part in parts]\n",
        "print(\", \".join(map(str, lenghts)))"
      ]
    },
    {
      "cell_type": "code",
      "source": [],
      "metadata": {
        "id": "SSshRfIGS7Fy"
      },
      "execution_count": null,
      "outputs": []
    },
    {
      "cell_type": "markdown",
      "source": [
        "Дан набор символов определенной длины. Известно,что между символами есть запятые. Найти длину каждой последовательности символов отделенных запятыми.\n",
        "Пример: абв, абвг, вбгд, абд Ответ:3,4,4,3"
      ],
      "metadata": {
        "id": "BN_WTVKqPk6e"
      }
    }
  ]
}